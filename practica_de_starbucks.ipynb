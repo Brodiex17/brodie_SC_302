{
  "nbformat": 4,
  "nbformat_minor": 0,
  "metadata": {
    "colab": {
      "provenance": [],
      "authorship_tag": "ABX9TyMv/AVJx/vuYlRlbOSE0shk",
      "include_colab_link": true
    },
    "kernelspec": {
      "name": "python3",
      "display_name": "Python 3"
    },
    "language_info": {
      "name": "python"
    }
  },
  "cells": [
    {
      "cell_type": "markdown",
      "metadata": {
        "id": "view-in-github",
        "colab_type": "text"
      },
      "source": [
        "<a href=\"https://colab.research.google.com/github/Brodiex17/brodie_SC_302/blob/main/practica_de_starbucks.ipynb\" target=\"_parent\"><img src=\"https://colab.research.google.com/assets/colab-badge.svg\" alt=\"Open In Colab\"/></a>"
      ]
    },
    {
      "cell_type": "code",
      "execution_count": 1,
      "metadata": {
        "colab": {
          "base_uri": "https://localhost:8080/"
        },
        "id": "0lxtxk-xdTqQ",
        "outputId": "3b189ec2-692d-4796-b38b-3a0661df6463"
      },
      "outputs": [
        {
          "output_type": "stream",
          "name": "stdout",
          "text": [
            "Primeras filas\n",
            "<bound method NDFrame.head of                                             Unnamed: 0 Calories Fat (g)  \\\n",
            "0             Cool Lime Starbucks Refreshers™ Beverage       45       0   \n",
            "1                                     Ombré Pink Drink        -       -   \n",
            "2                                           Pink Drink        -       -   \n",
            "3       Strawberry Acai Starbucks Refreshers™ Beverage       80       0   \n",
            "4    Very Berry Hibiscus Starbucks Refreshers™ Beve...       60       0   \n",
            "..                                                 ...      ...     ...   \n",
            "172                                 Chocolate Smoothie      320       5   \n",
            "173                                Strawberry Smoothie      300       2   \n",
            "174                                         Ginger Ale        -       -   \n",
            "175                                          Lemon Ale        -       -   \n",
            "176                                  Orange Cream Soda        -       -   \n",
            "\n",
            "    Carb. (g) Fiber (g) Protein Sodium  \n",
            "0          11         0       0     10  \n",
            "1           -         -       -      -  \n",
            "2           -         -       -      -  \n",
            "3          18         1       0     10  \n",
            "4          14         1       0     10  \n",
            "..        ...       ...     ...    ...  \n",
            "172        53         8      20    170  \n",
            "173        60         7      16    130  \n",
            "174         -         -       -      -  \n",
            "175         -         -       -      -  \n",
            "176         -         -       -      -  \n",
            "\n",
            "[177 rows x 7 columns]>\n"
          ]
        }
      ],
      "source": [
        "import pandas as pd\n",
        "\n",
        "#LEER ARCHIVO\n",
        "\n",
        "df = pd.read_csv('sample_data/starbucks-menu-nutrition-drinks.csv')\n",
        "\n",
        "# mostrar info del inicio\n",
        "\n",
        "print(\"Primeras filas\")\n",
        "print(df.head)"
      ]
    },
    {
      "cell_type": "code",
      "source": [
        "# Filtre los registros donde las calorías sean menores a 100\n",
        "\n",
        "#Se convierte los datos de calorias que son str a valores en tipo int\n",
        "df['Calories'] = pd.to_numeric(df['Calories'], errors='coerce')\n",
        "\n",
        "# Filtrar registros donde las calorías sean menores a 100\n",
        "df_calorias = df[df['Calories'] < 100]\n",
        "\n",
        "print(df_calorias)"
      ],
      "metadata": {
        "colab": {
          "base_uri": "https://localhost:8080/"
        },
        "id": "Mu-whH18jk5I",
        "outputId": "60fd1171-d6b1-4b69-b906-466f8263f364"
      },
      "execution_count": 9,
      "outputs": [
        {
          "output_type": "stream",
          "name": "stdout",
          "text": [
            "                                            Unnamed: 0  Calories Fat (g)  \\\n",
            "0             Cool Lime Starbucks Refreshers™ Beverage      45.0       0   \n",
            "3       Strawberry Acai Starbucks Refreshers™ Beverage      80.0       0   \n",
            "4    Very Berry Hibiscus Starbucks Refreshers™ Beve...      60.0       0   \n",
            "9                                          Iced Coffee       0.0       0   \n",
            "18                                    Shaken Sweet Tea      80.0       0   \n",
            "19                   Tazo® Bottled Berry Blossom White      60.0       0   \n",
            "24                          Tazo® Bottled Iced Passion      70.0       0   \n",
            "27                Tazo® Bottled Organic Iced Black Tea      60.0       0   \n",
            "32                      Teavana® Shaken Iced Black Tea      30.0       0   \n",
            "33             Teavana® Shaken Iced Black Tea Lemonade      70.0       0   \n",
            "34                      Teavana® Shaken Iced Green Tea      30.0       0   \n",
            "35             Teavana® Shaken Iced Green Tea Lemonade      70.0       0   \n",
            "36             Teavana® Shaken Iced Passion Tango™ Tea      30.0       0   \n",
            "37    Teavana® Shaken Iced Passion Tango™ Tea Lemonade      90.0       0   \n",
            "38                Teavana® Shaken Iced Peach Green Tea      60.0       0   \n",
            "55         Starbucks Refreshers™ Raspberry Pomegranate      90.0       0   \n",
            "56           Starbucks Refreshers™ Strawberry Lemonade      90.0       0   \n",
            "71                      Starbucks® Iced Coffee Caramel      60.0       0   \n",
            "72              Starbucks® Iced Coffee Light Sweetened      50.0       0   \n",
            "73                  Starbucks® Iced Coffee Unsweetened      10.0       0   \n",
            "77                   Tazo® Bottled Berry Blossom White      60.0       0   \n",
            "82                          Tazo® Bottled Iced Passion      70.0       0   \n",
            "85                Tazo® Bottled Organic Iced Black Tea      60.0       0   \n",
            "94                                        Blonde Roast       5.0       0   \n",
            "96                               Clover® Brewed Coffee      10.0       0   \n",
            "98                             Decaf Pike Place® Roast       5.0       0   \n",
            "99                                 Featured Dark Roast       5.0       0   \n",
            "100                                        Iced Coffee       5.0       0   \n",
            "102                                Nariño 70 Cold Brew       5.0       0   \n",
            "103                      Nariño 70 Cold Brew with Milk       0.0       0   \n",
            "104                                    Nitro Cold Brew       5.0       0   \n",
            "105                   Nitro Cold Brew with Sweet Cream      70.0       5   \n",
            "106                                  Pike Place® Roast       5.0       0   \n",
            "137              Starbucks Doubleshot® on Ice Beverage      45.0       1   \n",
            "\n",
            "    Carb. (g) Fiber (g) Protein Sodium  \n",
            "0          11         0       0     10  \n",
            "3          18         1       0     10  \n",
            "4          14         1       0     10  \n",
            "9           0         0       0      0  \n",
            "18         19         0       0     10  \n",
            "19         15         0       0     10  \n",
            "24         17         0       0     10  \n",
            "27         15         0       0     10  \n",
            "32          8         0       0      5  \n",
            "33         17         0       0      0  \n",
            "34          8         0       0      5  \n",
            "35         17         0       0      5  \n",
            "36          8         0       0      5  \n",
            "37         24         0       0      0  \n",
            "38         15         0       0      0  \n",
            "55         27         0       0      0  \n",
            "56         27         0       0      0  \n",
            "71         13         0       1      0  \n",
            "72         11         0       1      0  \n",
            "73          2         0       1      0  \n",
            "77         15         0       0     10  \n",
            "82         17         0       0     10  \n",
            "85         15         0       0     10  \n",
            "94          0         0       1     10  \n",
            "96          0         0       1     10  \n",
            "98          0         0       1     10  \n",
            "99          0         0       1     10  \n",
            "100         0         0       0      5  \n",
            "102         0         0       0     15  \n",
            "103         0         0       0      0  \n",
            "104         0         0       0     10  \n",
            "105         5         0       1     20  \n",
            "106         0         0       1     10  \n",
            "137         5         0       3     40  \n"
          ]
        }
      ]
    },
    {
      "cell_type": "code",
      "source": [
        "# 2. Cree una columna llamada Total donde sume la cantidad de carbohidratos y fibra.\n",
        "\n",
        "\n",
        "df['total']=  df['Carb. (g)'] + df['Fiber (g)']\n",
        "print(\"\\n La suma de calories y fiber es\")\n",
        "print(df)"
      ],
      "metadata": {
        "colab": {
          "base_uri": "https://localhost:8080/"
        },
        "id": "fhGylRMTrsqd",
        "outputId": "fc2152e0-fc86-4d1b-9878-d2b12ec32d5b"
      },
      "execution_count": 19,
      "outputs": [
        {
          "output_type": "stream",
          "name": "stdout",
          "text": [
            "\n",
            " La suma de calories y fiber es\n",
            "                                            Unnamed: 0  Calories Fat (g)  \\\n",
            "0             Cool Lime Starbucks Refreshers™ Beverage      45.0       0   \n",
            "1                                     Ombré Pink Drink       NaN       -   \n",
            "2                                           Pink Drink       NaN       -   \n",
            "3       Strawberry Acai Starbucks Refreshers™ Beverage      80.0       0   \n",
            "4    Very Berry Hibiscus Starbucks Refreshers™ Beve...      60.0       0   \n",
            "..                                                 ...       ...     ...   \n",
            "172                                 Chocolate Smoothie     320.0       5   \n",
            "173                                Strawberry Smoothie     300.0       2   \n",
            "174                                         Ginger Ale       NaN       -   \n",
            "175                                          Lemon Ale       NaN       -   \n",
            "176                                  Orange Cream Soda       NaN       -   \n",
            "\n",
            "    Carb. (g) Fiber (g) Protein Sodium total  \n",
            "0          11         0       0     10   110  \n",
            "1           -         -       -      -    --  \n",
            "2           -         -       -      -    --  \n",
            "3          18         1       0     10   181  \n",
            "4          14         1       0     10   141  \n",
            "..        ...       ...     ...    ...   ...  \n",
            "172        53         8      20    170   538  \n",
            "173        60         7      16    130   607  \n",
            "174         -         -       -      -    --  \n",
            "175         -         -       -      -    --  \n",
            "176         -         -       -      -    --  \n",
            "\n",
            "[177 rows x 8 columns]\n"
          ]
        }
      ]
    },
    {
      "cell_type": "code",
      "source": [
        "#Muestre la columna denominada Drink Name.\n",
        "\n",
        "df = pd.read_csv('sample_data/starbucks-menu-nutrition-drinks.csv', header=0)\n",
        "print(df.columns)\n",
        "# la columna no existe en el data frame"
      ],
      "metadata": {
        "colab": {
          "base_uri": "https://localhost:8080/"
        },
        "id": "Qku3sl0lvnJb",
        "outputId": "54ff2b81-feb8-40a7-cbf8-44788cc0a54c"
      },
      "execution_count": 39,
      "outputs": [
        {
          "output_type": "stream",
          "name": "stdout",
          "text": [
            "Index(['Unnamed: 0', 'Calories', 'Fat (g)', 'Carb. (g)', 'Fiber (g)',\n",
            "       'Protein', 'Sodium'],\n",
            "      dtype='object')\n"
          ]
        }
      ]
    },
    {
      "cell_type": "code",
      "source": [
        "#Obtenga el promedio de todas las columnas de tipo numérica\n",
        "\n",
        "\n",
        "\n",
        "# Asegurar que todas las columnas son numéricas\n",
        "df[[\"Calories\", \"Fat (g)\", \"Sodium\", \"Carb. (g)\", \"Protein\", \"Fiber (g)\"]] = df[[\"Calories\", \"Fat (g)\", \"Sodium\", \"Carb. (g)\", \"Protein\", \"Fiber (g)\"]].apply(pd.to_numeric, errors=\"coerce\")\n",
        "\n",
        "# Calcular el promedio de cada columna\n",
        "df_promedio = df.mean()\n",
        "\n",
        "# Calcular el promedio general de todas las columnas\n",
        "promedio_general = df_promedio.mean()\n",
        "\n",
        "print(\"Promedio de cada columna:\")\n",
        "print(df_promedio)\n",
        "print(\"Promedio general:\", promedio_general)\n",
        "\n"
      ],
      "metadata": {
        "colab": {
          "base_uri": "https://localhost:8080/",
          "height": 256
        },
        "id": "vCHJhmPIy4lp",
        "outputId": "072bcdb5-9c04-42bc-cd3e-c0b304f6c43d"
      },
      "execution_count": 54,
      "outputs": [
        {
          "output_type": "error",
          "ename": "NameError",
          "evalue": "name 'original_df' is not defined",
          "traceback": [
            "\u001b[0;31m---------------------------------------------------------------------------\u001b[0m",
            "\u001b[0;31mNameError\u001b[0m                                 Traceback (most recent call last)",
            "\u001b[0;32m<ipython-input-54-2432262ab58a>\u001b[0m in \u001b[0;36m<cell line: 0>\u001b[0;34m()\u001b[0m\n\u001b[1;32m      4\u001b[0m \u001b[0;34m\u001b[0m\u001b[0m\n\u001b[1;32m      5\u001b[0m \u001b[0;31m# Asegurar que todas las columnas son numéricas\u001b[0m\u001b[0;34m\u001b[0m\u001b[0;34m\u001b[0m\u001b[0m\n\u001b[0;32m----> 6\u001b[0;31m \u001b[0moriginal_df\u001b[0m\u001b[0;34m[\u001b[0m\u001b[0;34m[\u001b[0m\u001b[0;34m\"Calories\"\u001b[0m\u001b[0;34m,\u001b[0m \u001b[0;34m\"Fat (g)\"\u001b[0m\u001b[0;34m,\u001b[0m \u001b[0;34m\"Sodium\"\u001b[0m\u001b[0;34m,\u001b[0m \u001b[0;34m\"Carb. (g)\"\u001b[0m\u001b[0;34m,\u001b[0m \u001b[0;34m\"Protein\"\u001b[0m\u001b[0;34m,\u001b[0m \u001b[0;34m\"Fiber (g)\"\u001b[0m\u001b[0;34m]\u001b[0m\u001b[0;34m]\u001b[0m \u001b[0;34m=\u001b[0m \u001b[0moriginal_df\u001b[0m\u001b[0;34m[\u001b[0m\u001b[0;34m[\u001b[0m\u001b[0;34m\"Calories\"\u001b[0m\u001b[0;34m,\u001b[0m \u001b[0;34m\"Fat (g)\"\u001b[0m\u001b[0;34m,\u001b[0m \u001b[0;34m\"Sodium\"\u001b[0m\u001b[0;34m,\u001b[0m \u001b[0;34m\"Carb. (g)\"\u001b[0m\u001b[0;34m,\u001b[0m \u001b[0;34m\"Protein\"\u001b[0m\u001b[0;34m,\u001b[0m \u001b[0;34m\"Fiber (g)\"\u001b[0m\u001b[0;34m]\u001b[0m\u001b[0;34m]\u001b[0m\u001b[0;34m.\u001b[0m\u001b[0mapply\u001b[0m\u001b[0;34m(\u001b[0m\u001b[0mpd\u001b[0m\u001b[0;34m.\u001b[0m\u001b[0mto_numeric\u001b[0m\u001b[0;34m,\u001b[0m \u001b[0merrors\u001b[0m\u001b[0;34m=\u001b[0m\u001b[0;34m\"coerce\"\u001b[0m\u001b[0;34m)\u001b[0m\u001b[0;34m\u001b[0m\u001b[0;34m\u001b[0m\u001b[0m\n\u001b[0m\u001b[1;32m      7\u001b[0m \u001b[0;34m\u001b[0m\u001b[0m\n\u001b[1;32m      8\u001b[0m \u001b[0;31m# Calcular el promedio de cada columna\u001b[0m\u001b[0;34m\u001b[0m\u001b[0;34m\u001b[0m\u001b[0m\n",
            "\u001b[0;31mNameError\u001b[0m: name 'original_df' is not defined"
          ]
        }
      ]
    }
  ]
}